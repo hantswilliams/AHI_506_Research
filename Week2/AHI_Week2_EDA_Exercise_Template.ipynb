{
 "cells": [
  {
   "cell_type": "markdown",
   "metadata": {
    "collapsed": false
   },
   "source": [
    "# Week 2 - Exploratory Data Analysis (EDA) Exercise"
   ]
  },
  {
   "cell_type": "markdown",
   "metadata": {
    "collapsed": false
   },
   "source": [
    "We will start by importing the requisite libraries:\n",
    "* *Pandas* for Data Loading and Exploration\n",
    "* *Matplotlib, Seaborn* for Visualization."
   ]
  },
  {
   "cell_type": "code",
   "execution_count": 0,
   "metadata": {
    "collapsed": false
   },
   "outputs": [
   ],
   "source": [
    "# import requisite libraries \n",
    "import pandas as pd\n",
    "import matplotlib.pyplot as plt"
   ]
  },
  {
   "cell_type": "code",
   "execution_count": 0,
   "metadata": {
    "collapsed": false
   },
   "outputs": [
   ],
   "source": [
    "#Load in the data from the web \n",
    "url = 'https://raw.githubusercontent.com/hantswilliams/AHI_506_Research/master/Week2/final_contracts_encounters.csv'\n",
    "df = pd.read_csv(url, error_bad_lines=False)"
   ]
  },
  {
   "cell_type": "code",
   "execution_count": 0,
   "metadata": {
    "collapsed": false
   },
   "outputs": [
   ],
   "source": [
    "#Lets look at the first 5 records \n",
    "df.head(5)"
   ]
  },
  {
   "cell_type": "code",
   "execution_count": 0,
   "metadata": {
    "collapsed": false
   },
   "outputs": [
   ],
   "source": [
    "#Lets look at the bottom 5 records \n",
    "df.tail(5)"
   ]
  },
  {
   "cell_type": "code",
   "execution_count": 0,
   "metadata": {
    "collapsed": false
   },
   "outputs": [
   ],
   "source": [
    "#Lets look at a random selection of 5 records \n",
    "df.sample(5)"
   ]
  },
  {
   "cell_type": "code",
   "execution_count": 0,
   "metadata": {
    "collapsed": false
   },
   "outputs": [
   ],
   "source": [
    "#Lets look at the shape of our data [#rows and features]\n",
    "df.shape"
   ]
  },
  {
   "cell_type": "code",
   "execution_count": 0,
   "metadata": {
    "collapsed": false
   },
   "outputs": [
   ],
   "source": [
    "#Lets look at the feeatures of data\n",
    "df.info()"
   ]
  },
  {
   "cell_type": "markdown",
   "metadata": {
    "collapsed": false
   },
   "source": [
    "# VARIABLE DISTRIBUTION"
   ]
  },
  {
   "cell_type": "code",
   "execution_count": 0,
   "metadata": {
    "collapsed": false
   },
   "outputs": [
   ],
   "source": [
    "#Lets look at variable distributions\n",
    "df.hist(figsize=(30,30))\n",
    "#set a large figsize if you have > 9 variables\n",
    "plt.tight_layout()\n",
    "plt.show()"
   ]
  },
  {
   "cell_type": "code",
   "execution_count": 0,
   "metadata": {
    "collapsed": false
   },
   "outputs": [
   ],
   "source": [
    "#Lets now look at some summary statistics \n",
    "df.describe()"
   ]
  },
  {
   "cell_type": "code",
   "execution_count": 0,
   "metadata": {
    "collapsed": false
   },
   "outputs": [
   ],
   "source": [
    "#Lets now create a new datafrom to look at the summary statistics \n",
    "df_2 = df.describe()\n",
    "df_2"
   ]
  },
  {
   "cell_type": "code",
   "execution_count": 0,
   "metadata": {
    "collapsed": false
   },
   "outputs": [
   ],
   "source": [
    "#Lets see if there are any duplicate values \n",
    "df.duplicated().sum()"
   ]
  },
  {
   "cell_type": "markdown",
   "metadata": {
    "collapsed": false
   },
   "source": [
    "# NULL VALUES"
   ]
  },
  {
   "cell_type": "code",
   "execution_count": 0,
   "metadata": {
    "collapsed": false
   },
   "outputs": [
   ],
   "source": [
    "#Lets now check for NULL values / exlcuding 0  -> this will provide a % of missing values for each feature \n",
    "null = df.isna().sum()/len(df)\n",
    "null[null > 0].sort_values()"
   ]
  },
  {
   "cell_type": "markdown",
   "metadata": {
    "collapsed": false
   },
   "source": [
    "# OUTLIERS "
   ]
  },
  {
   "cell_type": "code",
   "execution_count": 0,
   "metadata": {
    "collapsed": false
   },
   "outputs": [
   ],
   "source": [
    "#Outliers for CONTINUOUS DATA - AGE \n",
    "#Lets first pull out a couple continuous variables\n",
    "continuous = df[['contracts_age', 'membership_activedays_todate']]\n",
    "continuous_labels = list(continuous.columns)"
   ]
  },
  {
   "cell_type": "code",
   "execution_count": 0,
   "metadata": {
    "collapsed": false
   },
   "outputs": [
   ],
   "source": [
    "#Now lets create a plot that will take our continuous data and plot it for us\n",
    "i = 1\n",
    "plt.figure(figsize=(15,30))\n",
    "for var in continuous_labels: #plotting boxplot for each variable\n",
    "   plt.subplot(round(len(continuous_labels),0)/3+3,4,i)\n",
    "   plt.boxplot(continuous[var],whis=5)\n",
    "   plt.title(var)\n",
    "   i+=1\n",
    "plt.tight_layout()\n",
    "plt.show()"
   ]
  },
  {
   "cell_type": "markdown",
   "metadata": {
    "collapsed": false
   },
   "source": [
    "# NEW FEATURES "
   ]
  },
  {
   "cell_type": "markdown",
   "metadata": {
    "collapsed": false
   },
   "source": [
    "## Lets create a NEW FEATURE - Encounters that is grouped together  // encounters_total_med_human"
   ]
  },
  {
   "cell_type": "code",
   "execution_count": 0,
   "metadata": {
    "collapsed": false
   },
   "outputs": [
   ],
   "source": [
    "#Lets create a FUNCTION that dictates how it should look/work\n",
    "def myencounters(row):\n",
    "    if row['encounters_total_number_of_doctors_visits'] == 1 :\n",
    "        return '1 Medical Encounter'\n",
    "    elif (row['encounters_total_number_of_doctors_visits'] > 1) & (row['encounters_total_number_of_doctors_visits'] <= 3) :\n",
    "        return '1 to 2 Medical Encounters'\n",
    "    elif row['encounters_total_number_of_doctors_visits'] > 3 :\n",
    "        return '4 or more Medical Encounters'\n",
    "\n",
    "df['encounters_total_med_human'] = df.apply( lambda row : myencounters(row), axis = 1)\n",
    "df['encounters_total_med_human'] = df['encounters_total_med_human'].fillna('0 Medical Encounters')\n"
   ]
  },
  {
   "cell_type": "code",
   "execution_count": 0,
   "metadata": {
    "collapsed": false
   },
   "outputs": [
   ],
   "source": [
    "## Lets create a NEW FEATURE - Completed PSIs // psi_completed_count_group"
   ]
  },
  {
   "cell_type": "code",
   "execution_count": 0,
   "metadata": {
    "collapsed": false
   },
   "outputs": [
   ],
   "source": [
    "def psicompletion(row):\n",
    "    if row['psi_count_numberical'] == 1 :\n",
    "        return '1 PSI completed'\n",
    "    elif (row['psi_count_numberical'] == 2) :\n",
    "        return '2 PSIs completed'\n",
    "    elif row['psi_count_numberical'] >= 3 :\n",
    "        return '3 or more PSIs completed'\n",
    "\n",
    "df['psi_completed_count_group'] = df.apply( lambda row : psicompletion(row), axis = 1)"
   ]
  },
  {
   "cell_type": "code",
   "execution_count": 0,
   "metadata": {
    "collapsed": false
   },
   "outputs": [
   ],
   "source": [
    "# How we check that both of these are now part of our dataset? lets do a list of our columns \n",
    "list(df)\n",
    "# We should see that the last columns of our dataframe now contain those new values"
   ]
  },
  {
   "cell_type": "code",
   "execution_count": 0,
   "metadata": {
    "collapsed": false
   },
   "outputs": [
   ],
   "source": [
   ]
  },
  {
   "cell_type": "code",
   "execution_count": 0,
   "metadata": {
    "collapsed": false
   },
   "outputs": [
   ],
   "source": [
   ]
  },
  {
   "cell_type": "code",
   "execution_count": 0,
   "metadata": {
    "collapsed": false
   },
   "outputs": [
   ],
   "source": [
   ]
  }
 ],
 "metadata": {
  "kernelspec": {
   "display_name": "Python 3",
   "language": "python",
   "name": "python3"
  },
  "language_info": {
   "codemirror_mode": {
    "name": "ipython",
    "version": 3
   },
   "file_extension": ".py",
   "mimetype": "text/x-python",
   "name": "python",
   "nbconvert_exporter": "python",
   "pygments_lexer": "ipython3",
   "version": "3.6.9"
  }
 },
 "nbformat": 4,
 "nbformat_minor": 4
}